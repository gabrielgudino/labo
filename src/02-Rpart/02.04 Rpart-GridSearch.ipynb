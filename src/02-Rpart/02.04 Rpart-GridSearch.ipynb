{
 "cells": [
  {
   "cell_type": "code",
   "execution_count": 2,
   "metadata": {
    "papermill": {
     "duration": 1.629423,
     "end_time": "2020-09-04T19:00:49.168162",
     "exception": false,
     "start_time": "2020-09-04T19:00:47.538739",
     "status": "completed"
    },
    "tags": [],
    "vscode": {
     "languageId": "r"
    }
   },
   "outputs": [
    {
     "data": {
      "text/html": [
       "<table class=\"dataframe\">\n",
       "<caption>A matrix: 2 × 7 of type dbl</caption>\n",
       "<thead>\n",
       "\t<tr><th></th><th scope=col>used</th><th scope=col>(Mb)</th><th scope=col>gc trigger</th><th scope=col>(Mb)</th><th scope=col>limit (Mb)</th><th scope=col>max used</th><th scope=col>(Mb)</th></tr>\n",
       "</thead>\n",
       "<tbody>\n",
       "\t<tr><th scope=row>Ncells</th><td>2253643</td><td>120.4</td><td>4424110</td><td>236.3</td><td>   NA</td><td>3420747</td><td>182.7</td></tr>\n",
       "\t<tr><th scope=row>Vcells</th><td>3804761</td><td> 29.1</td><td>8388608</td><td> 64.0</td><td>16384</td><td>5634034</td><td> 43.0</td></tr>\n",
       "</tbody>\n",
       "</table>\n"
      ],
      "text/latex": [
       "A matrix: 2 × 7 of type dbl\n",
       "\\begin{tabular}{r|lllllll}\n",
       "  & used & (Mb) & gc trigger & (Mb) & limit (Mb) & max used & (Mb)\\\\\n",
       "\\hline\n",
       "\tNcells & 2253643 & 120.4 & 4424110 & 236.3 &    NA & 3420747 & 182.7\\\\\n",
       "\tVcells & 3804761 &  29.1 & 8388608 &  64.0 & 16384 & 5634034 &  43.0\\\\\n",
       "\\end{tabular}\n"
      ],
      "text/markdown": [
       "\n",
       "A matrix: 2 × 7 of type dbl\n",
       "\n",
       "| <!--/--> | used | (Mb) | gc trigger | (Mb) | limit (Mb) | max used | (Mb) |\n",
       "|---|---|---|---|---|---|---|---|\n",
       "| Ncells | 2253643 | 120.4 | 4424110 | 236.3 |    NA | 3420747 | 182.7 |\n",
       "| Vcells | 3804761 |  29.1 | 8388608 |  64.0 | 16384 | 5634034 |  43.0 |\n",
       "\n"
      ],
      "text/plain": [
       "       used    (Mb)  gc trigger (Mb)  limit (Mb) max used (Mb) \n",
       "Ncells 2253643 120.4 4424110    236.3    NA      3420747  182.7\n",
       "Vcells 3804761  29.1 8388608     64.0 16384      5634034   43.0"
      ]
     },
     "metadata": {},
     "output_type": "display_data"
    }
   ],
   "source": [
    "#limpio la memoria\n",
    "rm(list=ls())\n",
    "gc()\n",
    "\n",
    "#cargo librerias\n",
    "library(\"data.table\")\n",
    "library(\"ROCR\")\n",
    "library(\"rpart\")\n",
    "library(\"rpart.plot\")\n",
    "library(\"caret\")"
   ]
  },
  {
   "cell_type": "code",
   "execution_count": 3,
   "metadata": {
    "papermill": {
     "duration": 0.279475,
     "end_time": "2020-09-04T19:00:49.466032",
     "exception": false,
     "start_time": "2020-09-04T19:00:49.186557",
     "status": "completed"
    },
    "tags": [],
    "vscode": {
     "languageId": "r"
    }
   },
   "outputs": [],
   "source": [
    "setwd(\"~/cloudL/UA/labo2022/\")\n",
    "\n",
    "#Parametros entrada\n",
    "\n",
    "#kcarpeta_datasets    <- \"../input/laboratorio-de-implementacion-i-2021/\"   #KAGGLE\n",
    "kcarpeta_datasets    <- \"./datasets/\"                          #VM o Ubuntu\n",
    "\n",
    "#Archivo con datos etiquetados para entrenamiento\n",
    "karchivo_entrada      <-  paste0(kcarpeta_datasets, \"competencia1_2022.csv\")\n",
    "\n",
    "#Formato para submit en Kaggle\n",
    "#karchivo_score      <-  \"../input/uamds2020ldi1f1/Sample_201910_Fase_I.txt\"\n",
    "\n",
    "#Separador de campos en archivos\n",
    "kcampos_separador     <-  \"\\t\"\n",
    "\n",
    "#Campo que identifica las muestras\n",
    "kcampo_id             <-  \"numero_de_cliente\"\n",
    "\n",
    "#Campo que contiene la clase a estimar\n",
    "kclase_nomcampo       <-  \"clase_ternaria\"\n",
    "\n",
    "#Valor de interés\n",
    "kclase_valor_positivo <-  \"BAJA+2\"\n",
    "\n",
    "#Campos a borrar para el entrenamiento\n",
    "kcampos_a_borrar      <-  c(kcampo_id,kclase_nomcampo,\"foto_mes\")\n",
    "\n",
    "#Campo que contendrá a la variable objetivo generada\n",
    "kobjetivo             <-  \"clase\"\n",
    "\n",
    "#Identificación del modelo\n",
    "kmodelo               <-  \"02-RPART\"\n",
    "\n",
    "#Ganancia por TP\n",
    "kTPGain               <-  78000\n",
    "\n",
    "#Pérdida por FP\n",
    "kFPGain               <-  -2000\n",
    "\n",
    "#Establezco semilla aleatoria\n",
    "set.seed(1)\n",
    "\n"
   ]
  },
  {
   "cell_type": "code",
   "execution_count": 4,
   "metadata": {
    "papermill": {
     "duration": 3.125502,
     "end_time": "2020-09-04T19:00:52.608890",
     "exception": false,
     "start_time": "2020-09-04T19:00:49.483388",
     "status": "completed"
    },
    "tags": [],
    "vscode": {
     "languageId": "r"
    }
   },
   "outputs": [],
   "source": [
    "#cargo los datos\n",
    "dataset <- fread(karchivo_entrada)\n",
    "\n",
    "#Para hacer pruebas rapidas puedo reducir el dataset a una fraccion\n",
    "#subsample <- sample(1:nrow(dataset), .1 * nrow(dataset))\n",
    "#dataset <- dataset[subsample,]\n",
    "\n",
    "dtrain  <- dataset[ foto_mes==202101 ]  #defino donde voy a entrenar\n",
    "\n",
    "train_rows <- createDataPartition(dtrain$clase, p = .66, list = FALSE)\n",
    "\n",
    "#train_rows <- sample(1:nrow(dataset), .66 * nrow(dataset))\n",
    "dtest <- dtrain[-train_rows,]\n",
    "dtrain <- dtrain[train_rows,]\n",
    "\n",
    "dapply  <- dataset[ foto_mes==202103 ]  #defino donde voy a aplicar el modelo"
   ]
  },
  {
   "cell_type": "code",
   "execution_count": 8,
   "metadata": {
    "vscode": {
     "languageId": "r"
    }
   },
   "outputs": [],
   "source": [
    "#Funcion que calcula la ganancia para una prediccion y valores reales\n",
    "fmetrica_ganancia_rpart  = function( probs, clases, pclase_valor_positivo )\n",
    "{\n",
    " \n",
    "  return(  sum(    (probs > 1/40 ) * \n",
    "                   ifelse( clases== pclase_valor_positivo, kTPGain, kFPGain )   \n",
    "              )\n",
    "         )\n",
    "}"
   ]
  },
  {
   "cell_type": "code",
   "execution_count": 6,
   "metadata": {
    "vscode": {
     "languageId": "r"
    }
   },
   "outputs": [],
   "source": [
    "# Funcion que entrena el arbol y luego determina la ganancia sobre el set de test\n",
    "modelo_rpart_ganancia = function( ptrain, ptest, pmaxdepth, pminbucket, pminsplit, pcp )\n",
    "{\n",
    "\n",
    "  modelo   <-  rpart(\"clase_ternaria ~ .\",   data = ptrain,  xval=0, maxdepth=pmaxdepth, minbucket=pminbucket, minsplit=pminsplit, cp=pcp)\n",
    "\n",
    "  #aplico el modelo a datos nuevos\n",
    "  testing_prediccion  <- predict( modelo, ptest)[, \"BAJA+2\"]\n",
    "    \n",
    "  return(fmetrica_ganancia_rpart(testing_prediccion,ptest[,..kclase_nomcampo],\"BAJA+2\"))\n",
    "  \n",
    "}"
   ]
  },
  {
   "cell_type": "code",
   "execution_count": 9,
   "metadata": {
    "vscode": {
     "languageId": "r"
    }
   },
   "outputs": [
    {
     "name": "stderr",
     "output_type": "stream",
     "text": [
      "Intentando 0 2 1 4\n",
      "\n",
      "Nuevo Maximo:  17220000 0 2 1 4\n",
      "\n",
      "Ganancia: 17220000 Ganancia Maxima 17220000\n",
      "\n",
      "Intentando 0 2 2 4\n",
      "\n",
      "Ganancia: 0 Ganancia Maxima 17220000\n",
      "\n",
      "Intentando 0 2 3 4\n",
      "\n",
      "Ganancia: 0 Ganancia Maxima 17220000\n",
      "\n",
      "Intentando 0 2 4 4\n",
      "\n",
      "Ganancia: 0 Ganancia Maxima 17220000\n",
      "\n",
      "Intentando 0 2 5 4\n",
      "\n",
      "Ganancia: 0 Ganancia Maxima 17220000\n",
      "\n",
      "Intentando 0 2 0 4\n",
      "\n",
      "Ganancia: 17220000 Ganancia Maxima 17220000\n",
      "\n",
      "Intentando 0 4 1 4\n",
      "\n",
      "Ganancia: 17220000 Ganancia Maxima 17220000\n",
      "\n",
      "Intentando 0 4 2 4\n",
      "\n",
      "Ganancia: 0 Ganancia Maxima 17220000\n",
      "\n",
      "Intentando 0 4 3 4\n",
      "\n",
      "Ganancia: 0 Ganancia Maxima 17220000\n",
      "\n",
      "Intentando 0 4 4 4\n",
      "\n",
      "Ganancia: 0 Ganancia Maxima 17220000\n",
      "\n",
      "Intentando 0 4 5 4\n",
      "\n",
      "Ganancia: 0 Ganancia Maxima 17220000\n",
      "\n",
      "Intentando 0 4 0 4\n",
      "\n",
      "Ganancia: 17220000 Ganancia Maxima 17220000\n",
      "\n",
      "Intentando 0 8 1 4\n",
      "\n",
      "Ganancia: 17220000 Ganancia Maxima 17220000\n",
      "\n",
      "Intentando 0 8 2 4\n",
      "\n",
      "Ganancia: 0 Ganancia Maxima 17220000\n",
      "\n",
      "Intentando 0 8 3 4\n",
      "\n",
      "Ganancia: 0 Ganancia Maxima 17220000\n",
      "\n",
      "Intentando 0 8 4 4\n",
      "\n",
      "Ganancia: 0 Ganancia Maxima 17220000\n",
      "\n",
      "Intentando 0 8 5 4\n",
      "\n",
      "Ganancia: 0 Ganancia Maxima 17220000\n",
      "\n",
      "Intentando 0 8 0 4\n",
      "\n"
     ]
    }
   ],
   "source": [
    "#Cuenta los modelos probados\n",
    "linea <- 1\n",
    "\n",
    "#Establece una ganancia inicial muy baja a superar\n",
    "max_gan <- -100000000\n",
    "\n",
    "#For anidados para grid search \n",
    "for( vcp in c( 0, 0.01, 0.001)) #Complexity Factor\n",
    "for( vmaxdepth in  c(4,8,14,16) ) #max Depth\n",
    "for( vminsplit in  c(2, 4, 8, 10, 15, 20, 30, 50, 100, 150, 200, 300, 400 ) ) #Min Split\n",
    "for( vminbucket  in  unique( as.integer(c(1,2,3,4,5,  vminsplit/10, vminsplit/5, vminsplit/3, vminsplit/2 )) ) ) #Min Bucket\n",
    "{ \n",
    "\n",
    "    #Muestra los parametros a testear\n",
    "    message(paste('Intentando',vcp,vminsplit,vminbucket,vmaxdepth))\n",
    "    #Llama a la funcion que entrena el modelo y calcula la ganancia para esos parametros\n",
    "    res <- modelo_rpart_ganancia( dtrain, dtest, \n",
    "                                  pmaxdepth=vmaxdepth, pminbucket=vminbucket, pminsplit=vminsplit, pcp=vcp )\n",
    "\n",
    "  \n",
    "    #Verifica si se supero la mejor ganancia hasta el momento. En caso de haberla superado graba los hiperparametros nuevos\n",
    "    if (res>max_gan) {\n",
    "      max_gan <- res\n",
    "      message(paste(\"Nuevo Maximo: \", res*3, vcp,vminsplit,vminbucket,vmaxdepth))\n",
    "      pcp<-vcp\n",
    "      pminsplit<-vminsplit\n",
    "      pminbucket<-vminbucket\n",
    "      pmaxdepth<-vmaxdepth\n",
    "  }\n",
    "  #Muestra al ganancia de la iteracion\n",
    "  message(paste('Ganancia:',res*3,'Ganancia Maxima',max_gan*3))\n",
    "    \n",
    "  linea <- linea+1\n",
    "\n",
    "\n",
    "}"
   ]
  },
  {
   "cell_type": "code",
   "execution_count": 12,
   "metadata": {
    "vscode": {
     "languageId": "r"
    }
   },
   "outputs": [
    {
     "name": "stdout",
     "output_type": "stream",
     "text": [
      "[1] 4.870981\n"
     ]
    }
   ],
   "source": [
    "#Entrena el modelo con el dataset completo\n",
    "t0       <-  Sys.time()\n",
    "modelo   <-  rpart(formula_obj,   data = dataset,   xval=0, maxdepth=pmaxdepth, minbucket=pminbucket, minsplit=pminsplit, cp=pcp)\n",
    "t1       <-  Sys.time()\n",
    "\n",
    "tcorrida <-  as.numeric( t1 - t0, units = \"secs\")\n",
    "print( tcorrida)"
   ]
  },
  {
   "cell_type": "code",
   "execution_count": null,
   "metadata": {
    "vscode": {
     "languageId": "r"
    }
   },
   "outputs": [],
   "source": []
  },
  {
   "cell_type": "code",
   "execution_count": 13,
   "metadata": {
    "papermill": {
     "duration": 0.042756,
     "end_time": "2020-09-04T19:01:52.213056",
     "exception": false,
     "start_time": "2020-09-04T19:01:52.170300",
     "status": "completed"
    },
    "tags": [],
    "vscode": {
     "languageId": "r"
    }
   },
   "outputs": [
    {
     "data": {
      "text/plain": [
       "n= 238608 \n",
       "\n",
       "node), split, n, deviance, yval\n",
       "      * denotes terminal node\n",
       "\n",
       " 1) root 238608 971.016000 0.004086200  \n",
       "   2) ctrx_quarter>=18.5 220827 467.008200 0.002119306  \n",
       "     4) ctrx_quarter>=49.5 185242 186.811200 0.001009490  \n",
       "       8) ccomisiones_mantenimiento< 23 185241 185.813200 0.001004097 *\n",
       "       9) ccomisiones_mantenimiento>=23 1   0.000000 1.000000000 *\n",
       "     5) ctrx_quarter< 49.5 35585 278.781100 0.007896586  \n",
       "      10) Master_mpagominimo< 706832.1 35584 277.796800 0.007868705 *\n",
       "      11) Master_mpagominimo>=706832.1 1   0.000000 1.000000000 *\n",
       "   3) ctrx_quarter< 18.5 17781 492.543600 0.028513580  \n",
       "     6) mpasivos_margen>=34.305 8946 132.962800 0.015090540 *\n",
       "     7) mpasivos_margen< 34.305 8835 356.336800 0.042105260  \n",
       "      14) mprestamos_personales>=36166.5 1212   9.917492 0.008250825  \n",
       "        28) mcuenta_corriente< 1586.375 1211   8.933113 0.007431874 *\n",
       "        29) mcuenta_corriente>=1586.375 1   0.000000 1.000000000 *\n",
       "      15) mprestamos_personales< 36166.5 7623 344.809400 0.047487870  \n",
       "        30) mrentabilidad_annual< 705.42 2648  66.253780 0.025679760 *\n",
       "        31) mrentabilidad_annual>=705.42 4975 276.625900 0.059095480 *"
      ]
     },
     "metadata": {},
     "output_type": "display_data"
    }
   ],
   "source": [
    "#Detalles del modelo\n",
    "modelo"
   ]
  },
  {
   "cell_type": "code",
   "execution_count": 14,
   "metadata": {
    "papermill": {
     "duration": 2.186041,
     "end_time": "2020-09-04T19:04:18.120606",
     "exception": false,
     "start_time": "2020-09-04T19:04:15.934565",
     "status": "completed"
    },
    "tags": [],
    "vscode": {
     "languageId": "r"
    }
   },
   "outputs": [],
   "source": [
    "#Leo datos a estimar\n",
    "dataset_pred <- fread(karchivo_predecir)\n",
    "\n",
    "\n",
    "#Genero la clase\n",
    "#dataset_pred[,(kobjetivo) := as.integer(dataset[,..kclase_nomcampo] == kclase_valor_positivo)]\n",
    "\n",
    "#Limpio campos a borrar\n",
    "#dataset_pred[ ,  (kcampos_a_borrar) := NULL    ] \n",
    "\n",
    "prediccion  <- predict( modelo, dataset_pred ) #aplico el modelo"
   ]
  },
  {
   "cell_type": "code",
   "execution_count": 15,
   "metadata": {
    "papermill": {
     "duration": 2.186041,
     "end_time": "2020-09-04T19:04:18.120606",
     "exception": false,
     "start_time": "2020-09-04T19:04:15.934565",
     "status": "completed"
    },
    "tags": [],
    "vscode": {
     "languageId": "r"
    }
   },
   "outputs": [],
   "source": [
    "dataset_pred[ , prob_baja := prediccion]\n",
    "dataset_pred[ , Predicted  := as.numeric(prob_baja > 0.025) ]\n",
    "\n",
    "entrega  <- dataset_pred[   , list(numero_de_cliente, Predicted) ] #genero la salida\n",
    "\n",
    "#genero el archivo para Kaggle\n",
    "fwrite( entrega, file=\"./salida_rpart_grid.csv\", sep=\",\" )"
   ]
  },
  {
   "cell_type": "code",
   "execution_count": null,
   "metadata": {
    "papermill": {
     "duration": 0.195911,
     "end_time": "2020-09-04T19:04:21.274063",
     "exception": false,
     "start_time": "2020-09-04T19:04:21.078152",
     "status": "completed"
    },
    "tags": [],
    "vscode": {
     "languageId": "r"
    }
   },
   "outputs": [],
   "source": []
  },
  {
   "cell_type": "code",
   "execution_count": null,
   "metadata": {
    "vscode": {
     "languageId": "r"
    }
   },
   "outputs": [],
   "source": []
  }
 ],
 "metadata": {
  "kernelspec": {
   "display_name": "R",
   "language": "R",
   "name": "ir"
  },
  "language_info": {
   "codemirror_mode": "r",
   "file_extension": ".r",
   "mimetype": "text/x-r-source",
   "name": "R",
   "pygments_lexer": "r",
   "version": "4.2.1"
  },
  "papermill": {
   "duration": 216.919775,
   "end_time": "2020-09-04T19:04:21.680072",
   "environment_variables": {},
   "exception": null,
   "input_path": "__notebook__.ipynb",
   "output_path": "__notebook__.ipynb",
   "parameters": {},
   "start_time": "2020-09-04T19:00:44.760297",
   "version": "2.1.2"
  }
 },
 "nbformat": 4,
 "nbformat_minor": 4
}
