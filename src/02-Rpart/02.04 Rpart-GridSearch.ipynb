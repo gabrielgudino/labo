{
 "cells": [
  {
   "cell_type": "code",
   "execution_count": null,
   "metadata": {
    "papermill": {
     "duration": 1.629423,
     "end_time": "2020-09-04T19:00:49.168162",
     "exception": false,
     "start_time": "2020-09-04T19:00:47.538739",
     "status": "completed"
    },
    "tags": [],
    "vscode": {
     "languageId": "r"
    }
   },
   "outputs": [],
   "source": [
    "#limpio la memoria\n",
    "rm(list=ls())\n",
    "gc()\n",
    "\n",
    "#cargo librerias\n",
    "library(\"data.table\")\n",
    "library(\"ROCR\")\n",
    "library(\"rpart\")\n",
    "library(\"rpart.plot\")\n",
    "library(\"caret\")"
   ]
  },
  {
   "cell_type": "code",
   "execution_count": null,
   "metadata": {
    "papermill": {
     "duration": 0.279475,
     "end_time": "2020-09-04T19:00:49.466032",
     "exception": false,
     "start_time": "2020-09-04T19:00:49.186557",
     "status": "completed"
    },
    "tags": [],
    "vscode": {
     "languageId": "r"
    }
   },
   "outputs": [],
   "source": [
    "setwd(\"~/cloudL/UA/labo2022/\")\n",
    "\n",
    "#Parametros entrada\n",
    "\n",
    "#kcarpeta_datasets    <- \"../input/laboratorio-de-implementacion-i-2021/\"   #KAGGLE\n",
    "kcarpeta_datasets    <- \"./datasets/\"                          #VM o Ubuntu\n",
    "\n",
    "#Archivo con datos etiquetados para entrenamiento\n",
    "karchivo_entrada      <-  paste0(kcarpeta_datasets, \"competencia1_2022.csv\")\n",
    "\n",
    "#Formato para submit en Kaggle\n",
    "#karchivo_score      <-  \"../input/uamds2020ldi1f1/Sample_201910_Fase_I.txt\"\n",
    "\n",
    "#Separador de campos en archivos\n",
    "kcampos_separador     <-  \"\\t\"\n",
    "\n",
    "#Campo que identifica las muestras\n",
    "kcampo_id             <-  \"numero_de_cliente\"\n",
    "\n",
    "#Campo que contiene la clase a estimar\n",
    "kclase_nomcampo       <-  \"clase_ternaria\"\n",
    "\n",
    "#Valor de interés\n",
    "kclase_valor_positivo <-  \"BAJA+2\"\n",
    "\n",
    "#Campos a borrar para el entrenamiento\n",
    "kcampos_a_borrar      <-  c(kcampo_id,kclase_nomcampo,\"foto_mes\")\n",
    "\n",
    "#Campo que contendrá a la variable objetivo generada\n",
    "kobjetivo             <-  \"clase\"\n",
    "\n",
    "#Identificación del modelo\n",
    "kmodelo               <-  \"02-RPART\"\n",
    "\n",
    "#Ganancia por TP\n",
    "kTPGain               <-  78000\n",
    "\n",
    "#Pérdida por FP\n",
    "kFPGain               <-  -2000\n",
    "\n",
    "#Establezco semilla aleatoria\n",
    "set.seed(1)\n",
    "\n"
   ]
  },
  {
   "cell_type": "code",
   "execution_count": null,
   "metadata": {
    "papermill": {
     "duration": 3.125502,
     "end_time": "2020-09-04T19:00:52.608890",
     "exception": false,
     "start_time": "2020-09-04T19:00:49.483388",
     "status": "completed"
    },
    "tags": [],
    "vscode": {
     "languageId": "r"
    }
   },
   "outputs": [],
   "source": [
    "#cargo los datos\n",
    "dataset <- fread(karchivo_entrada)\n",
    "\n",
    "#Para hacer pruebas rapidas puedo reducir el dataset a una fraccion\n",
    "#subsample <- sample(1:nrow(dataset), .1 * nrow(dataset))\n",
    "#dataset <- dataset[subsample,]\n",
    "\n",
    "dtrain  <- dataset[ foto_mes==202101 ]  #defino donde voy a entrenar\n",
    "\n",
    "train_rows <- createDataPartition(dtrain$clase_ternaria, p = .66, list = FALSE)\n",
    "\n",
    "#train_rows <- sample(1:nrow(dataset), .66 * nrow(dataset))\n",
    "dtest <- dtrain[-train_rows,]\n",
    "dtrain <- dtrain[train_rows,]\n",
    "\n",
    "dapply  <- dataset[ foto_mes==202103 ]  #defino donde voy a aplicar el modelo"
   ]
  },
  {
   "cell_type": "code",
   "execution_count": null,
   "metadata": {
    "vscode": {
     "languageId": "r"
    }
   },
   "outputs": [],
   "source": [
    "#Funcion que calcula la ganancia para una prediccion y valores reales\n",
    "fmetrica_ganancia_rpart  = function( probs, clases, pclase_valor_positivo )\n",
    "{\n",
    " \n",
    "  return(  sum(    (probs > 1/40 ) * \n",
    "                   ifelse( clases== pclase_valor_positivo, kTPGain, kFPGain )   \n",
    "              )\n",
    "         )\n",
    "}"
   ]
  },
  {
   "cell_type": "code",
   "execution_count": null,
   "metadata": {
    "vscode": {
     "languageId": "r"
    }
   },
   "outputs": [],
   "source": [
    "# Funcion que entrena el arbol y luego determina la ganancia sobre el set de test\n",
    "modelo_rpart_ganancia = function( ptrain, ptest, pmaxdepth, pminbucket, pminsplit, pcp )\n",
    "{\n",
    "\n",
    "  modelo   <-  rpart(\"clase_ternaria ~ .\",   data = ptrain,  xval=0, maxdepth=pmaxdepth, minbucket=pminbucket, minsplit=pminsplit, cp=pcp)\n",
    "\n",
    "  #aplico el modelo a datos nuevos\n",
    "  testing_prediccion  <- predict( modelo, ptest)[, \"BAJA+2\"]\n",
    "    \n",
    "  return(fmetrica_ganancia_rpart(testing_prediccion,ptest[,..kclase_nomcampo],\"BAJA+2\"))\n",
    "  \n",
    "}"
   ]
  },
  {
   "cell_type": "code",
   "execution_count": null,
   "metadata": {
    "vscode": {
     "languageId": "r"
    }
   },
   "outputs": [],
   "source": [
    "#Cuenta los modelos probados\n",
    "linea <- 1\n",
    "\n",
    "#Establece una ganancia inicial muy baja a superar\n",
    "max_gan <- -100000000\n",
    "\n",
    "#For anidados para grid search \n",
    "for( vcp in c( 0, 0.01, 0.001)) #Complexity Factor\n",
    "for( vmaxdepth in  c(4,8,14,16) ) #max Depth\n",
    "for( vminsplit in  c(2, 4, 8, 10, 15, 20, 30, 50, 100, 150, 200, 300, 400 ) ) #Min Split\n",
    "for( vminbucket  in  unique( as.integer(c(1,2,3,4,5,  vminsplit/10, vminsplit/5, vminsplit/3, vminsplit/2 )) ) ) #Min Bucket\n",
    "{ \n",
    "\n",
    "    #Muestra los parametros a testear\n",
    "    message(paste('Intentando',vcp,vminsplit,vminbucket,vmaxdepth))\n",
    "    #Llama a la funcion que entrena el modelo y calcula la ganancia para esos parametros\n",
    "    res <- modelo_rpart_ganancia( dtrain, dtest, \n",
    "                                  pmaxdepth=vmaxdepth, pminbucket=vminbucket, pminsplit=vminsplit, pcp=vcp )\n",
    "\n",
    "  \n",
    "    #Verifica si se supero la mejor ganancia hasta el momento. En caso de haberla superado graba los hiperparametros nuevos\n",
    "    if (res>max_gan) {\n",
    "      max_gan <- res\n",
    "      message(paste(\"Nuevo Maximo: \", res*3, vcp,vminsplit,vminbucket,vmaxdepth))\n",
    "      pcp<-vcp\n",
    "      pminsplit<-vminsplit\n",
    "      pminbucket<-vminbucket\n",
    "      pmaxdepth<-vmaxdepth\n",
    "  }\n",
    "  #Muestra al ganancia de la iteracion\n",
    "  message(paste('Ganancia:',res*3,'Ganancia Maxima',max_gan*3))\n",
    "    \n",
    "  linea <- linea+1\n",
    "\n",
    "\n",
    "}"
   ]
  },
  {
   "cell_type": "code",
   "execution_count": null,
   "metadata": {
    "vscode": {
     "languageId": "r"
    }
   },
   "outputs": [],
   "source": [
    "#Entrena el modelo con el dataset completo\n",
    "t0       <-  Sys.time()\n",
    "modelo   <-  rpart(\"clase_ternaria ~ .\",   data = dtrain,   xval=0, maxdepth=pmaxdepth, minbucket=pminbucket, minsplit=pminsplit, cp=pcp)\n",
    "t1       <-  Sys.time()\n",
    "\n",
    "tcorrida <-  as.numeric( t1 - t0, units = \"secs\")\n",
    "print( tcorrida)"
   ]
  },
  {
   "cell_type": "code",
   "execution_count": null,
   "metadata": {
    "papermill": {
     "duration": 0.042756,
     "end_time": "2020-09-04T19:01:52.213056",
     "exception": false,
     "start_time": "2020-09-04T19:01:52.170300",
     "status": "completed"
    },
    "tags": [],
    "vscode": {
     "languageId": "r"
    }
   },
   "outputs": [],
   "source": [
    "#Detalles del modelo\n",
    "modelo"
   ]
  },
  {
   "cell_type": "code",
   "execution_count": null,
   "metadata": {
    "papermill": {
     "duration": 2.186041,
     "end_time": "2020-09-04T19:04:18.120606",
     "exception": false,
     "start_time": "2020-09-04T19:04:15.934565",
     "status": "completed"
    },
    "tags": [],
    "vscode": {
     "languageId": "r"
    }
   },
   "outputs": [],
   "source": [
    "#Arbol generado\n",
    "options(repr.plot.width=15, repr.plot.height=15)\n",
    "prp(modelo, extra=101, digits=5, branch=1, type=4, varlen=0, faclen=0, tweak=1.3)"
   ]
  },
  {
   "cell_type": "code",
   "execution_count": null,
   "metadata": {
    "papermill": {
     "duration": 2.186041,
     "end_time": "2020-09-04T19:04:18.120606",
     "exception": false,
     "start_time": "2020-09-04T19:04:15.934565",
     "status": "completed"
    },
    "tags": [],
    "vscode": {
     "languageId": "r"
    }
   },
   "outputs": [],
   "source": [
    "prediccion  <- predict( modelo, dapply , type = \"prob\") #aplico el modelo\n",
    "dapply[ , prob_baja2 := prediccion[, \"BAJA+2\"] ]\n",
    "dapply[ , Predicted  := as.numeric(prob_baja2 > 1/40) ]\n",
    "dir.create( \"./exp/RPART\" )\n",
    "fwrite( dapply[ , list(numero_de_cliente, Predicted) ], #solo los campos para Kaggle\n",
    "        file= \"./exp/RPART/RPART-GRID.csv\", \n",
    "        sep= \",\" )"
   ]
  }
 ],
 "metadata": {
  "kernelspec": {
   "display_name": "R",
   "language": "R",
   "name": "ir"
  },
  "language_info": {
   "codemirror_mode": "r",
   "file_extension": ".r",
   "mimetype": "text/x-r-source",
   "name": "R",
   "pygments_lexer": "r",
   "version": "4.2.1"
  },
  "papermill": {
   "duration": 216.919775,
   "end_time": "2020-09-04T19:04:21.680072",
   "environment_variables": {},
   "exception": null,
   "input_path": "__notebook__.ipynb",
   "output_path": "__notebook__.ipynb",
   "parameters": {},
   "start_time": "2020-09-04T19:00:44.760297",
   "version": "2.1.2"
  }
 },
 "nbformat": 4,
 "nbformat_minor": 4
}
